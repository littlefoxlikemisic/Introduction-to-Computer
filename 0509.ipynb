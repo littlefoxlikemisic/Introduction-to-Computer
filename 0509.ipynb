{
  "nbformat": 4,
  "nbformat_minor": 0,
  "metadata": {
    "colab": {
      "name": "0509.ipynb",
      "provenance": [],
      "authorship_tag": "ABX9TyMmFO1VXWfP9EhNGpAJnAba",
      "include_colab_link": true
    },
    "kernelspec": {
      "name": "python3",
      "display_name": "Python 3"
    },
    "language_info": {
      "name": "python"
    }
  },
  "cells": [
    {
      "cell_type": "markdown",
      "metadata": {
        "id": "view-in-github",
        "colab_type": "text"
      },
      "source": [
        "<a href=\"https://colab.research.google.com/github/littlefoxlikemisic/Introduction-to-Computer/blob/main/0509.ipynb\" target=\"_parent\"><img src=\"https://colab.research.google.com/assets/colab-badge.svg\" alt=\"Open In Colab\"/></a>"
      ]
    },
    {
      "cell_type": "code",
      "execution_count": 15,
      "metadata": {
        "colab": {
          "base_uri": "https://localhost:8080/"
        },
        "id": "0bzePK9X7uTK",
        "outputId": "02895b13-5bb0-4b82-a1d8-3c7ee287fa52"
      },
      "outputs": [
        {
          "output_type": "stream",
          "name": "stdout",
          "text": [
            "請輸入你的體溫36.5\n",
            "體溫正常!\n"
          ]
        }
      ],
      "source": [
        "temp=float(input('請輸入你的體溫'))\n",
        "if temp>=37.5:\n",
        "  print('體溫過高!')\n",
        "elif temp>=37 and temp<=37.4:\n",
        "  print('體溫略高!')\n",
        "elif temp>=34 and temp<=36.9:\n",
        "  print('體溫正常!')\n",
        "else:\n",
        "  print('體溫異常,請重新量測!')"
      ]
    },
    {
      "cell_type": "code",
      "source": [
        "score=int(input('請輸入成績'))\n",
        "if score>=90:\n",
        "  print('A')\n",
        "elif score>=80 and score<=89:\n",
        "  print('B')\n",
        "elif score>=70 and score<=79:\n",
        "  print('C')\n",
        "elif score>=60 and score<=69:\n",
        "  print('D')\n",
        "else:\n",
        "  print('E')"
      ],
      "metadata": {
        "colab": {
          "base_uri": "https://localhost:8080/"
        },
        "id": "wwlueCpM_nJ_",
        "outputId": "2c321a0a-40ae-4b3e-9ca1-a367b99774fd"
      },
      "execution_count": 24,
      "outputs": [
        {
          "output_type": "stream",
          "name": "stdout",
          "text": [
            "請輸入成績95\n",
            "A\n"
          ]
        }
      ]
    },
    {
      "cell_type": "code",
      "source": [
        "money=int(input('請輸入購物金額:'))\n",
        "if money>=10000:\n",
        "  if money>=100000:\n",
        "    print('八折',money*0.8,end='元\\n')\n",
        "  elif money>=50000:\n",
        "    print('八五折',money*0.85,end='元\\n')\n",
        "  elif money>=30000:\n",
        "    print('九折',money*0.9,end='元\\n')\n",
        "  else:\n",
        "    print('九五折',money*0.95,end='元\\n')\n",
        "else:\n",
        "  print('沒打折',money,end='元\\n')"
      ],
      "metadata": {
        "colab": {
          "base_uri": "https://localhost:8080/"
        },
        "id": "l8onbLtqE16L",
        "outputId": "1e14a3d4-5916-4194-8782-89bf124aefd8"
      },
      "execution_count": 32,
      "outputs": [
        {
          "output_type": "stream",
          "name": "stdout",
          "text": [
            "請輸入購物金額:10000\n",
            "九五折 9500.0元\n"
          ]
        }
      ]
    },
    {
      "cell_type": "code",
      "source": [
        "month=int(input('請輸入月份'))\n",
        "if month==3 or month==4 or month==5:\n",
        "  print(month,'月是春天!')\n",
        "elif month==6 or month==7 or month==8:\n",
        "  print(month,'月是夏天!')\n",
        "elif month==9 or month==10 or month==11:\n",
        "  print(month,'月是秋天!')\n",
        "elif month==12 or month==1 or month==2:\n",
        "  print(month,'月是冬天!')\n",
        "else:\n",
        "  print('月份不在範圍內!')"
      ],
      "metadata": {
        "colab": {
          "base_uri": "https://localhost:8080/"
        },
        "id": "Xu2bX5QuHbK2",
        "outputId": "1d14fa78-6cde-4437-f8be-cb413042d813"
      },
      "execution_count": 47,
      "outputs": [
        {
          "output_type": "stream",
          "name": "stdout",
          "text": [
            "請輸入月份7\n",
            "7 月是夏天!\n"
          ]
        }
      ]
    },
    {
      "cell_type": "code",
      "source": [
        "income=int(input('請輸入今年收入淨額:'))\n",
        "if income>=2000000:\n",
        "  print('付稅金額',income*0.3,'元')\n",
        "elif income>=1000000:\n",
        "  print('付稅金額',income*0.21,'元')\n",
        "elif income>=600000:\n",
        "  print('付稅金額',income*0.13,'元')\n",
        "elif income>=300000:\n",
        "  print('付稅金額',income*0.06,'元')\n",
        "else:\n",
        "  print('付稅金額: 0 元')"
      ],
      "metadata": {
        "colab": {
          "base_uri": "https://localhost:8080/"
        },
        "id": "JI0HquFMKP6H",
        "outputId": "bf22ab76-9e4a-4e22-8171-c92ff1d64523"
      },
      "execution_count": 51,
      "outputs": [
        {
          "output_type": "stream",
          "name": "stdout",
          "text": [
            "請輸入今年收入淨額:500000\n",
            "付稅金額 30000.0 元\n"
          ]
        }
      ]
    }
  ]
}